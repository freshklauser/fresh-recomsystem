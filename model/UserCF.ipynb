{
 "cells": [
  {
   "cell_type": "markdown",
   "metadata": {},
   "source": [
    "# 基于用户的协同过滤算法 `userCF`"
   ]
  },
  {
   "cell_type": "code",
   "execution_count": 1,
   "metadata": {},
   "outputs": [],
   "source": [
    "import random\n",
    "import math\n",
    "import time\n",
    "from tqdm import tqdm\n",
    "import numpy as np\n",
    "from sklearn.model_selection import KFold"
   ]
  },
  {
   "cell_type": "markdown",
   "metadata": {},
   "source": [
    "## 一、通用函数定义"
   ]
  },
  {
   "cell_type": "code",
   "execution_count": 2,
   "metadata": {},
   "outputs": [],
   "source": [
    "# 定义装饰器，监控运行时间\n",
    "def timmer(func):\n",
    "    def wrapper(*args, **kwargs):\n",
    "        start_time = time.perf_counter()\n",
    "        res = func(*args, **kwargs)\n",
    "        stop_time = time.perf_counter()\n",
    "        print(\"Func {}, run time: {}\".format(func.__name__, stop_time - start_time))\n",
    "        return res\n",
    "    return wrapper"
   ]
  },
  {
   "cell_type": "markdown",
   "metadata": {},
   "source": [
    "### 1. 数据处理\n",
    "- `load data`\n",
    "- `split data`"
   ]
  },
  {
   "cell_type": "markdown",
   "metadata": {},
   "source": [
    "数据格式（有换行）： `[user_id ::  movie_id :: rating :: timestamp]`\n",
    "\n",
    "        1::1193::5::978300760\n",
    "\n",
    "        1::661::3::978302109\n",
    "        \n",
    "- 基于用户或item的协同过滤只需要保留<font color=red> user </font>和 <font color=red> item </font>字段数据即可。处理数据时，需要将换行符 `'\\n'`和 分隔符`'::'`去掉;\n",
    "- 需求数据格式 tuple(user, item), tuple元素为int"
   ]
  },
  {
   "cell_type": "code",
   "execution_count": 3,
   "metadata": {},
   "outputs": [],
   "source": [
    "class Dataset():\n",
    "    def __init__(self, filepath):\n",
    "        self.data = self.loadData(filepath)\n",
    "        \n",
    "    @timmer\n",
    "    def loadData(self, filepath):\n",
    "        '''返回值data: 元组(user, item)为元素的列表'''\n",
    "        data = []\n",
    "        for line in open(filepath):\n",
    "            temp = tuple(map(int, line.strip().split(\"::\")[:2]))   # index 0和1是 user和item\n",
    "            data.append(temp)\n",
    "#         print('部分原始数据: {}'.format(data[:10]), type(data))\n",
    "        return data\n",
    "    \n",
    "    @timmer\n",
    "    def splitData(self, kfolds=5, seed=1):\n",
    "        '''\n",
    "        :params: data, 格式元组(user, item)\n",
    "        :params: kfolds, k折交叉验证的n_split \n",
    "        :params: seed, random的种子数\n",
    "        '''\n",
    "#         # K折交叉验证获取train和test\n",
    "#         kf = KFold(n_splits=kfolds)\n",
    "#         for train_index, test_index in kf.split(self.data):\n",
    "#             train = np.array(self.data)[train_index]\n",
    "#             test = np.array(self.data)[test_index]\n",
    "#             break\n",
    "#         print(train.shape, test.shape)    # (800168, 2)\n",
    "        train, test = [], []\n",
    "        random.seed(seed)\n",
    "        \n",
    "        for user, item in self.data:\n",
    "            # 这里与书中的不一致，本人认为取M-1较为合理，因randint是左右都覆盖的\n",
    "            if random.randint(0, kfolds-1) == 1:  \n",
    "                test.append((user, item))\n",
    "            else:\n",
    "                train.append((user, item))\n",
    "                \n",
    "#         print(len(train), len(test))\n",
    "#         print(train[5800:5810], test[100:110])\n",
    "            \n",
    "        def convert_dict(data):\n",
    "            '''转换成字典形式 {user: set(items)}'''\n",
    "#             assert(type(data) == np.ndarray)\n",
    "#             data = data.tolist()  # ndarrya 数组转化为list 需要使用 arr.tolist()函数\n",
    "            data_dict = {}\n",
    "            for user, item in data:\n",
    "                if user not in data_dict:\n",
    "                    data_dict[user] = set()\n",
    "                data_dict[user].add(item)     # 集合添加元素的方法 .add(ele)\n",
    "#             data_dict转化为 user 为key, set(item)转为 list 为value的字典（可要可不要）\n",
    "#             for key in data_dict.keys():\n",
    "#                 data_dict[key] = list(data_dict[key])\n",
    "#             print('~~~~~~~~~~~~', data_dict)\n",
    "            return data_dict\n",
    "        return convert_dict(train), convert_dict(test)       "
   ]
  },
  {
   "cell_type": "markdown",
   "metadata": {},
   "source": [
    "训练集和测试机数据格式 ： \n",
    ">`{user1: [item11, item12, ...], user2:[item21, item22,...]}`"
   ]
  },
  {
   "cell_type": "code",
   "execution_count": 4,
   "metadata": {},
   "outputs": [
    {
     "name": "stdout",
     "output_type": "stream",
     "text": [
      "Func loadData, run time: 1.4070679909999995\n",
      "Func splitData, run time: 1.5393819129999997\n"
     ]
    }
   ],
   "source": [
    "if __name__ == \"__main__\":\n",
    "    filepath = r'..\\data\\ml-1m\\ratings.dat'\n",
    "    dataset = Dataset(filepath)\n",
    "    dataset.splitData(5, 2)"
   ]
  },
  {
   "cell_type": "markdown",
   "metadata": {},
   "source": [
    "### 2. 评价指标\n",
    "- Precision\n",
    "- Recall\n",
    "- Coverage\n",
    "- Popularity(Novelty)"
   ]
  },
  {
   "cell_type": "code",
   "execution_count": 5,
   "metadata": {},
   "outputs": [],
   "source": [
    "class Metric():\n",
    "    def __init__(self, train, test, GetRecommendation):\n",
    "        '''\n",
    "        :params: train, 训练数据\n",
    "        :params: test, 测试数据\n",
    "        :params: GetRecommendation, 为某个用户获取推荐物品的接口函数\n",
    "        '''\n",
    "        self.train = train\n",
    "        self.test = test\n",
    "        self.GetRecommendation = GetRecommendation\n",
    "        self.recs = self.getRec()\n",
    "        \n",
    "    def getRec(self):\n",
    "        '''为 test 中的每个用户进行推荐'''\n",
    "        recs = {}\n",
    "        for user in self.test.keys():\n",
    "            rank = self.GetRecommendation(user)  # rank为列表\n",
    "            recs[user] = rank\n",
    "        return recs\n",
    "    \n",
    "    def precision(self):\n",
    "        '''准确率：最终的推荐列表中有多少比例是 **发生过的用户-物品行为记录** '''\n",
    "        All, hit = 0, 0\n",
    "        for user in self.test.keys():\n",
    "            # 用户在test中喜欢的item 集合 T(u)\n",
    "            test_items = set(self.test[user])\n",
    "            # 对用户推荐的N个item 列表 （rank为列表）\n",
    "            rank = self.recs[user]\n",
    "            for item, score in rank:\n",
    "                if item in test_items:\n",
    "                    hit += 1               # 分子： sum(T(u) & R(u)))\n",
    "            All += len(rank)               # 分母： sum(R(u))\n",
    "            # precision = (T(u) & R(u)) / R(u)\n",
    "        return round(hit / All * 100, 2)\n",
    "        \n",
    "    def recall(self):\n",
    "        '''召回率：有多少比例的 **用户-物品行为记录** 包含在最终的推荐列表中'''\n",
    "        All, hit = 0, 0\n",
    "        for user in self.test.keys():\n",
    "            # 用户在 test 中喜欢的 item 集合 T(u)\n",
    "            test_items = set(self.test[user])\n",
    "            # 对用户推荐的N个 item 列表R(u)\n",
    "            rank = self.recs[user]\n",
    "            for item, score in rank:\n",
    "                if item in test_items:\n",
    "                    hit += 1               # 分子： sum(T(u) & R(u)))\n",
    "            All += len(test_items)         # 分母： sum(T(u))\n",
    "            # recall = (T(u) & R(u)) / T(u)\n",
    "        return round(hit / All * 100, 2)\n",
    "    \n",
    "    def coverage(self):\n",
    "        '''覆盖率：最终的推荐列表中包含多大比例的 **物品**'''\n",
    "        all_item, recom_item = set(), set()\n",
    "        for user in self.test.keys():         # test 中的 user\n",
    "            for item in self.train[user]:     # test中user在train中包含的所有item\n",
    "                # 凡是train中user有过行为记录的item都加入到all_item中\n",
    "                all_item.add(item)            # 所有物品集合 I\n",
    "            # 对用户推荐的N个item 列表\n",
    "            rank = self.recs[user]\n",
    "            # 凡是推荐给user的item都计入到recom_item中\n",
    "            for item, score in rank:\n",
    "                recom_item.add(item)          # 推荐的物品集合 R(u)\n",
    "        # coverage = #R(u) / #I\n",
    "        return round(len(recom_item) / len(all_item) * 100, 2)\n",
    "    \n",
    "    def popularity(self):\n",
    "        '''新颖度：推荐的是目标用户喜欢的但未发生过的用户-行为\n",
    "           用推荐列表中物品的平均流行度来度量新颖度(新颖度越高，流行度越低)'''\n",
    "        # 计算item 的流行度 （train set）\n",
    "        item_popularity = {}\n",
    "        for user, items in self.train.items():\n",
    "            for item in items:\n",
    "                if item not in item_popularity:\n",
    "                    item_popularity[item] = 0\n",
    "                # 若item在train的user中发生过记录，则该item的流行度+1\n",
    "                item_popularity[item] += 1\n",
    "        \n",
    "        popular = 0\n",
    "        num = 0\n",
    "        for user in self.test.keys():\n",
    "            # 向test中的 user 推荐topN 物品\n",
    "            rank = self.recs[user]\n",
    "            for item, score in rank:\n",
    "                # 对每个物品的流行度取对数运算\n",
    "                # 防止长尾问题带来的北流行物品主导的推荐（避免热门推荐）\n",
    "                popular += math.log(1 + item_popularity[item])\n",
    "                # 汇总所有user的总推荐物品个数\n",
    "                num += 1\n",
    "        # 计算平均流行度 = popular / n\n",
    "        return round(popular / num, 6)\n",
    "    \n",
    "    def eval(self):\n",
    "        # 汇总 metric 指标\n",
    "        metric = {'Precision': self.precision(),\n",
    "                  'Recall': self.recall(),\n",
    "                  'Coverage': self.coverage(),\n",
    "                  'Popularity': self.popularity()}\n",
    "        print('Metric: {}'.format(metric))\n",
    "        return metric"
   ]
  },
  {
   "cell_type": "markdown",
   "metadata": {},
   "source": [
    "## 二、算法实现\n",
    "- **Random**： 随机推荐N个用户 *未见过* 的item\n",
    "- **MostPopular**：随机推荐N个用户*未见过* 的*最热门*的item\n",
    "- **UserCF**\n",
    "- **UserIIF**"
   ]
  },
  {
   "cell_type": "markdown",
   "metadata": {},
   "source": [
    "### 1. Random 随机推荐\n",
    "- 随机推荐 N 个 用户未见过的 item"
   ]
  },
  {
   "cell_type": "code",
   "execution_count": 6,
   "metadata": {},
   "outputs": [],
   "source": [
    "# 1. 随机推荐\n",
    "def Random(train, K, N):\n",
    "    '''\n",
    "    :params: train, 训练数据集\n",
    "    :params: K, 可忽略\n",
    "    :params: N, 超参数，设置取TopN推荐物品数目\n",
    "    :return: GetRecommendation, 推荐接口函数\n",
    "    '''\n",
    "    items = {}\n",
    "    for user in train.keys():\n",
    "        for item in train[user]:\n",
    "            items[item] = 1\n",
    "    \n",
    "    def GetRecommendation(user):\n",
    "        '''根据items字典中的item出现次数为依据，随机选取topN个未见过的item作为推荐内容'''\n",
    "        user_items = set(train[user])   # 目标用户user的列表中的item集合（推荐的item不应与该集合中的item相同）\n",
    "        recom_items = {}                # 定义推荐列表，字典（item, #item）\n",
    "        for item in items.keys():       # items 前文定义的，包含所有 item 的字典(item, #item)\n",
    "            if item not in user_items:\n",
    "                recom_items[item] = items[item]  # 未见过的item添加为recom_items的元素\n",
    "        # 从recom_items中随机挑选 N个 ： [(item1, #item1), (item2, #item2), ...]\n",
    "        recom_items = list(recom_items.items())\n",
    "        random.shuffle(recom_items)\n",
    "        return recom_items[: N]\n",
    "    \n",
    "    return GetRecommendation"
   ]
  },
  {
   "cell_type": "markdown",
   "metadata": {},
   "source": [
    "### 2. MostPopular 热门推荐\n",
    "- 随机推荐 N 个 用户未见过的 最热门的 item"
   ]
  },
  {
   "cell_type": "code",
   "execution_count": 7,
   "metadata": {},
   "outputs": [],
   "source": [
    "def MostPopular(train, K, N):\n",
    "    '''\n",
    "    :params: train, 训练数据集\n",
    "    :params: K, 可忽略\n",
    "    :params: N, 超参数，设置取TopN推荐物品数目\n",
    "    :return: GetRecommendation, 推荐接口函数\n",
    "    '''\n",
    "    items = {}                   # keys: item, value: item出现的次数\n",
    "    for user in train.keys():\n",
    "        for item in train[user]:\n",
    "            if item not in items.keys():\n",
    "                items[item] = 0  # 若果是新item, 先设置item出现的次数为0，再+1计数\n",
    "            items[item] += 1     # user中出现一次item 则+1计数一次\n",
    "    \n",
    "    def GetRecommendation(user):\n",
    "        '''根据items字典中的item出现次数为依据，随机选取topN个未见过的item作为推荐内容'''\n",
    "        user_items = set(train[user])   # 目标用户user的列表中的item集合（推荐的item不应与该集合中的item相同）\n",
    "        recom_items = {}                # 定义推荐列表，字典（item, #item）\n",
    "        for item in items.keys():       # items 前文定义的，包含所有 item 的字典(item, #item)\n",
    "            if item not in user_items:\n",
    "                recom_items[item] = items[item]  # 未见过的item及出现的次数添加为recom_items的元素\n",
    "        # 从recom_items中挑选 topN ： [(item1, #item1), (item2, #item2), ...]\n",
    "        recom_items_sorted = sorted(recom_items.items(), key=lambda x: x[1], reverse=True)\n",
    "        '''若只保存 item，不需要#item: [item1, item2, item3, ...]'''\n",
    "#         recom_items_final = list(map(lambda x: x[0], recom_items_sorted))\n",
    "        return recom_items_sorted[: N]\n",
    "    \n",
    "    return GetRecommendation"
   ]
  },
  {
   "cell_type": "markdown",
   "metadata": {},
   "source": [
    "### 3. UserCF 基于用户的协同过滤推荐 （余弦相似度）\n",
    "步骤：\n",
    "1. 计算 <font color=blue>item --> user</font> 的倒排表\n",
    "    - 每个物品都保存对该物品产生过行为的用户列表 <font color=blue>`dict{item, set(user1, user4, user7), ...}`</font> \n",
    "2. 计算每两个用户之间的共同item情况的稀疏矩阵Cmat[u][v]-(可用dict保存)\n",
    "    - 比如，对于不同的item,如A、B和C，用户u和用户v的item列表中都有，则`Cmat[u][v]=3`）\n",
    "    - 比如，对于不同的item,如A、B和C，用户u和用户v的item列表中都有A和B，不同时存在C，则`Cmat[u][v]=2`）\n",
    "    - 具体的 物品--用户倒排表见book《系统推荐实践》P47\n",
    "3. 根据2中用户之间关于co-rated item的稀疏矩阵，计算用户之间的余弦相似度\n",
    "4. 按照相似度进行排序兴趣相似的K个用户\n",
    "5. 将K个用户喜欢的物品计算rank值并推荐给user \n",
    "    - 此例权重皆设为1，电影中可以将用户对电影的评分作为基础，用户相似性得分作为权重\n",
    "    - 权重为1，则直接将相似度作为用户user对物品i感兴趣的程度，将相似度传给rank值作为推荐topN的标准\n",
    "\n",
    "余弦相似度公式中:\n",
    "- N(user): 用户user正经有过正反馈的物品集合的元素总数\n",
    "        - N(u)\n",
    "        - N(v)"
   ]
  },
  {
   "cell_type": "code",
   "execution_count": 8,
   "metadata": {},
   "outputs": [],
   "source": [
    "# 3. 基于用户余弦相似度的推荐\n",
    "def UserCF(train, K, N):\n",
    "    '''\n",
    "    :params: train, 训练数据集\n",
    "    :params: K, 超参数，设置取TopK相似用户数目\n",
    "    :params: N, 超参数，设置取TopN推荐物品数目\n",
    "    :return: GetRecommendation, 推荐接口函数\n",
    "    '''\n",
    "    # 计算 item->user 的倒排表 {item, set(user1, user4, user7), ...}\n",
    "    item_users = {}\n",
    "    for user in train.keys():             # 遍历用户\n",
    "        for item in train[user]:          # 遍历该循环内user对应的所有items\n",
    "            if item not in item_users.keys():\n",
    "                item_users[item] = set()  # item_users新增的item，先设置对应user集合为空集合\n",
    "            item_users[item].add(user) # 设置为空集合后，将该新增的item对应的user添加到用户集合中\n",
    "    \n",
    "    # 计算不同用户的 co-rated item的稀疏矩阵C\n",
    "    cmat = {}         # 储存稀疏矩阵cmat[u][v]的值 {u: {v, int}, ...}\n",
    "    num = {}          # 储存每一个用户有过正反馈的物品集合的总数{user1:int, user2:int, user3:int,...}\n",
    "    for item, users in item_users.items(): # 每一个item循环下，循环users元素\n",
    "        for u in users:    # 由于每个item下的user是不重复的，item中每一个users都是对该item有过正正反馈，则N(user)计数+1\n",
    "            if u not in num.keys():\n",
    "                num[u] = 0\n",
    "            num[u] += 1\n",
    "            if u not in cmat.keys():     # 初始化新增到C中的u: cmat[u]\n",
    "                cmat[u] = {}\n",
    "            for v in users:           # users中出u之外的其他user,并计算u和v的相似度\n",
    "                if u == v:\n",
    "                    continue          # 跳到最近所在循环的开头\n",
    "                if v not in cmat[u].keys():\n",
    "                    cmat[u][v] = 0\n",
    "                cmat[u][v] += 1\n",
    "    \n",
    "    # 计算最终的相似度矩阵 sim[u][v] 格式 {u: {v: sim(u,v)}, ...}\n",
    "    sim = {}\n",
    "    for u, related_users in cmat.items():\n",
    "        sim[u] = {}                   # 不能少，确保sim[u]也是字典才能进一步sim[u][v]\n",
    "        for v, cuv in related_users.items():\n",
    "            sim[u][v] = cuv / math.sqrt(num[u] * num[v])\n",
    "            \n",
    "    # 按照相似度排序并获取推荐接口函数\n",
    "    def GetRecommendation(user):\n",
    "        rank = {}                                         # 待推荐列表  {item1:rank1, item2:rank2,...}\n",
    "        # 用户见过的item列表 [item1, item2, item3, ...]\n",
    "        interacted_items = set(train[user])\n",
    "        # 根据相似度对user与其他user之间的相似性进行排序 {u:{v, sim(u,v)}} --> {v, sim(u,v)}\n",
    "        sim_users = sim[user]\n",
    "        # 对相似性用户按相似度排序并取topN的用户: simuv作为排序参考，降序\n",
    "        sim_users_sorted = sorted(sim_users.items(), key=lambda x: x[1], reverse=True)[:K]\n",
    "        # 根据相似度高的用户的列表对user进行推荐（去掉user见过的item）\n",
    "        for v, simuv in sim_users_sorted:\n",
    "            for item in train[v]:                        # train[v]是用户v的item列表\n",
    "                if item not in interacted_items:  # 只处理未见过的item\n",
    "                    if item not in rank.keys():          # 判断item是否已在推荐列表中\n",
    "                        rank[item] = 0                   # 不在，则加入到推荐列表\n",
    "                    rank[item] += sim[user][v] * 1       # 并将相似度传入rank[item]字典中(此处权重皆为1，因为train中只有user和item)\n",
    "        # 对rank字典排序，获得 topN 对应的 item\n",
    "        rank_sorted = sorted(rank.items(), key=lambda x: x[1], reverse=True)[:N]\n",
    "        '''若只保存 item，不需要#item: [item1, item2, item3, ...]'''\n",
    "#         rank_sorted = list(map(lambda x: x[0], rank_sorted))\n",
    "        # 返回值是列表\n",
    "        return rank_sorted\n",
    "    \n",
    "    return GetRecommendation"
   ]
  },
  {
   "cell_type": "code",
   "execution_count": 9,
   "metadata": {},
   "outputs": [
    {
     "data": {
      "text/plain": [
       "'\\n    for u in sim:\\n        for v in sim[u]:\\n            C[u][v] /= math.sqrt(num[u] * num[v])\\n            # C[u][v] 即计算的相似度\\n'"
      ]
     },
     "execution_count": 9,
     "metadata": {},
     "output_type": "execute_result"
    }
   ],
   "source": [
    "# 计算最终的相似度矩阵 sim[u][v] 也可以采用下述代码，更合适\n",
    "'''\n",
    "    for u in sim:\n",
    "        for v in sim[u]:\n",
    "            C[u][v] /= math.sqrt(num[u] * num[v])\n",
    "            # C[u][v] 即计算的相似度\n",
    "'''"
   ]
  },
  {
   "cell_type": "markdown",
   "metadata": {},
   "source": [
    "### 4. UserIIF 基于用户的协同过滤推荐的改进版（余弦相似度）\n",
    "步骤：\n",
    "- 同3\n",
    "\n",
    "改进之处：\n",
    "- 计算用户相似度的公式有所改变\n",
    "- 改进原因：两个用户对冷门物品采用过同样的行为更能说明他们兴趣的相似度\n",
    "- 改进方式：惩罚了用户u和用户v共同兴趣列表中热门物品对他们的相似度的影响\n",
    "- 具体公式见 《推荐系统实践》 P49\n"
   ]
  },
  {
   "cell_type": "code",
   "execution_count": 10,
   "metadata": {},
   "outputs": [],
   "source": [
    "# 4. 基于用户余弦相似度的推荐改进版\n",
    "def UserIIF(train, K, N):\n",
    "    '''\n",
    "    :params: train, 训练数据集\n",
    "    :params: K, 超参数，设置取TopK相似用户数目\n",
    "    :params: N, 超参数，设置取TopN推荐物品数目\n",
    "    :return: GetRecommendation, 推荐接口函数\n",
    "    '''\n",
    "    # 计算 item->user 的倒排表 {item, set(user1, user4, user7), ...}\n",
    "    item_users = {}\n",
    "    for user in train.keys():             # 遍历用户\n",
    "        for item in train[user]:          # 遍历该循环内user对应的所有items\n",
    "            if item not in item_users.keys():\n",
    "                item_users[item] = set()  # item_users新增的item，先设置对应user集合为空集合\n",
    "            item_users[item].add(user) # 设置为空集合后，将该新增的item对应的user添加到用户集合中\n",
    "    \n",
    "    # 计算不同用户的 co-rated item的稀疏矩阵C\n",
    "    cmat = {}         # 储存稀疏矩阵cmat[u][v]的值 {u: {v, int}, ...}\n",
    "    num = {}          # 储存每一个用户有过正反馈的物品集合的总数{user1:int, user2:int, user3:int,...}\n",
    "    for item, users in item_users.items(): # 每一个item循环下，循环users元素\n",
    "        for u in users:    # 由于每个item下的user是不重复的，item中每一个users都是对该item有过正正反馈，则N(user)计数+1\n",
    "            if u not in num.keys():\n",
    "                num[u] = 0\n",
    "            num[u] += 1\n",
    "            if u not in cmat.keys():     # 初始化新增到C中的u: cmat[u]\n",
    "                cmat[u] = {}\n",
    "            for v in users:           # users中出u之外的其他user,并计算u和v的相似度\n",
    "                if u == v:\n",
    "                    continue          # 跳到最近所在循环的开头\n",
    "                if v not in cmat[u].keys():\n",
    "                    cmat[u][v] = 0\n",
    "#                 cmat[u][v] += 1     #  改进的地方,改为下一行所示公式\n",
    "                cmat[u][v] += (1 / math.log(1 + len(users)))\n",
    "    \n",
    "    # 计算最终的相似度矩阵 sim[u][v] 格式 {u: {v: sim(u,v)}, ...}\n",
    "    sim = {}\n",
    "    for u, related_users in cmat.items():\n",
    "        sim[u] = {}                   # 不能少，确保sim[u]也是字典才能进一步sim[u][v]\n",
    "        for v, cuv in related_users.items():\n",
    "            sim[u][v] = cuv / math.sqrt(num[u] * num[v])\n",
    "            \n",
    "    # 按照相似度排序并获取推荐接口函数\n",
    "    def GetRecommendation(user):\n",
    "        rank = {}                                         # 待推荐列表  {item1:rank1, item2:rank2,...}\n",
    "        # 用户见过的item列表 [item1, item2, item3, ...]\n",
    "        interacted_items = set(train[user])\n",
    "        # 根据相似度对user与其他user之间的相似性进行排序 {u:{v, sim(u,v)}} --> {v, sim(u,v)}\n",
    "        sim_users = sim[user]\n",
    "        # 对相似性用户按相似度排序并取topN的用户: simuv作为排序参考，降序\n",
    "        sim_users_sorted = sorted(sim_users.items(), key=lambda x: x[1], reverse=True)[:K]\n",
    "        # 根据相似度高的用户的列表对user进行推荐（去掉user见过的item）\n",
    "        for v, simuv in sim_users_sorted:\n",
    "            for item in train[v]:                        # train[v]是用户v的item列表\n",
    "                if item not in interacted_items:  # 只处理未见过的item\n",
    "                    if item not in rank.keys():          # 判断item是否已在推荐列表中\n",
    "                        rank[item] = 0                   # 不在，则加入到推荐列表\n",
    "                    rank[item] += sim[user][v] * 1       # 并将相似度传入rank[item]字典中(此处权重皆为1，因为train中只有user和item)\n",
    "        # 对rank字典排序，获得 topN 对应的 item\n",
    "        rank_sorted = sorted(rank.items(), key=lambda x: x[1], reverse=True)[:N]\n",
    "#         print(\"Recommended items list: \", rank_sorted)\n",
    "        # 返回值是列表\n",
    "        return rank_sorted\n",
    "        \n",
    "    return GetRecommendation"
   ]
  },
  {
   "cell_type": "markdown",
   "metadata": {},
   "source": [
    "## 三、测试算法\n",
    "1. Random实验\n",
    "2. MostPopular实验\n",
    "3. UserCF实验，K=[5, 10, 20, 40, 80, 160]\n",
    "4. UserIIF实验, K=80\n",
    "\n",
    "N = 10 （top10作为推荐物品）"
   ]
  },
  {
   "cell_type": "code",
   "execution_count": 11,
   "metadata": {},
   "outputs": [],
   "source": [
    "class Experiment():\n",
    "    def __init__(self, K, N, fp=r'..\\data\\ml-1m\\ratings.dat', method='UserCF'):\n",
    "        '''\n",
    "        :params: K, TopK相似用户的个数\n",
    "        :params: N, TopN推荐物品的个数\n",
    "        :params: fp, 数据文件路径\n",
    "        :params: method, 推荐算法\n",
    "        '''\n",
    "        self.K = K\n",
    "        self.N = N\n",
    "        self.fp = fp\n",
    "        self.method = method\n",
    "        self.alg = {\"Random\": Random, \"MostPopular\": MostPopular, \"UserCF\": UserCF, \"UserIIF\": UserIIF}\n",
    "        \n",
    "    @timmer\n",
    "    def worker(self, train, test):\n",
    "        '''\n",
    "        :params: train, 训练数据集\n",
    "        :params: test, 测试数据集\n",
    "        :return: 各指标的值\n",
    "        '''\n",
    "        getRecommendation = self.alg[self.method](train, self.K, self.N)\n",
    "        metric = Metric(train, test, getRecommendation)\n",
    "        return metric.eval()\n",
    "    \n",
    "    @timmer\n",
    "    def run(self):\n",
    "        dataset = Dataset(self.fp)\n",
    "        train, test = dataset.splitData()\n",
    "        metric = self.worker(train, test)\n",
    "        print('Done!!') "
   ]
  },
  {
   "cell_type": "markdown",
   "metadata": {},
   "source": [
    "**示例1： Random 推荐**"
   ]
  },
  {
   "cell_type": "code",
   "execution_count": 12,
   "metadata": {},
   "outputs": [
    {
     "name": "stdout",
     "output_type": "stream",
     "text": [
      "Func loadData, run time: 1.415750376\n",
      "Func splitData, run time: 1.741130451\n",
      "Metric: {'Precision': 0.92, 'Recall': 0.14, 'Coverage': 99.97, 'Popularity': 4.334407}\n",
      "Func worker, run time: 17.727695567\n",
      "Done!!\n",
      "Func run, run time: 20.989055712000003\n"
     ]
    }
   ],
   "source": [
    "K = 10\n",
    "N = 5\n",
    "random_exp = Experiment(K, N, method='Random')\n",
    "random_exp.run()"
   ]
  },
  {
   "cell_type": "markdown",
   "metadata": {},
   "source": [
    "**示例2： MostPopular 推荐**"
   ]
  },
  {
   "cell_type": "code",
   "execution_count": 13,
   "metadata": {},
   "outputs": [
    {
     "name": "stdout",
     "output_type": "stream",
     "text": [
      "Func loadData, run time: 1.4029202209999987\n",
      "Func splitData, run time: 1.6466635789999984\n",
      "Metric: {'Precision': 18.42, 'Recall': 5.55, 'Coverage': 2.04, 'Popularity': 7.647028}\n",
      "Func worker, run time: 8.892803098000002\n",
      "Done!!\n",
      "Func run, run time: 12.047494272000002\n"
     ]
    }
   ],
   "source": [
    "K = 80\n",
    "N = 10\n",
    "random_exp = Experiment(K, N, method='MostPopular')\n",
    "random_exp.run()"
   ]
  },
  {
   "cell_type": "markdown",
   "metadata": {},
   "source": [
    "**示例3： UserCF 推荐**"
   ]
  },
  {
   "cell_type": "code",
   "execution_count": 14,
   "metadata": {
    "scrolled": true
   },
   "outputs": [
    {
     "name": "stdout",
     "output_type": "stream",
     "text": [
      "Func loadData, run time: 1.4449662419999996\n",
      "Func splitData, run time: 1.6503386029999945\n",
      "Metric: {'Precision': 26.13, 'Recall': 3.94, 'Coverage': 41.41, 'Popularity': 6.816413}\n",
      "Func worker, run time: 237.029874071\n",
      "Done!!\n",
      "Func run, run time: 240.23973838\n"
     ]
    }
   ],
   "source": [
    "K = 80\n",
    "N = 5\n",
    "random_exp = Experiment(K, N, method='UserCF')\n",
    "random_exp.run()"
   ]
  },
  {
   "cell_type": "markdown",
   "metadata": {},
   "source": [
    "**示例4： UserIIF 推荐**"
   ]
  },
  {
   "cell_type": "code",
   "execution_count": null,
   "metadata": {},
   "outputs": [
    {
     "name": "stdout",
     "output_type": "stream",
     "text": [
      "Func loadData, run time: 1.729870428999675\n",
      "Func splitData, run time: 2.2546620460002487\n"
     ]
    }
   ],
   "source": [
    "K = 80\n",
    "N = 5\n",
    "random_exp = Experiment(K, N, method='UserIIF')\n",
    "random_exp.run()"
   ]
  },
  {
   "cell_type": "code",
   "execution_count": 16,
   "metadata": {},
   "outputs": [],
   "source": [
    "# 不知道为什么K折之后的数据集运行起来有问题\n",
    "# "
   ]
  }
 ],
 "metadata": {
  "kernelspec": {
   "display_name": "Python 3",
   "language": "python",
   "name": "python3"
  },
  "language_info": {
   "codemirror_mode": {
    "name": "ipython",
    "version": 3
   },
   "file_extension": ".py",
   "mimetype": "text/x-python",
   "name": "python",
   "nbconvert_exporter": "python",
   "pygments_lexer": "ipython3",
   "version": "3.7.2"
  }
 },
 "nbformat": 4,
 "nbformat_minor": 2
}
